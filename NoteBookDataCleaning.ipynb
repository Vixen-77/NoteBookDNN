{
 "cells": [
  {
   "cell_type": "code",
   "execution_count": null,
   "id": "fe5cf1c9",
   "metadata": {
    "vscode": {
     "languageId": "plaintext"
    }
   },
   "outputs": [],
   "source": [
    "import pandas as pd\n",
    "import numpy as np\n",
    "from sklearn.model_selection import train_test_split\n",
    "from sklearn.preprocessing import StandardScaler\n",
    "import tensorflow as tf\n",
    "from google.colab import files\n",
    "\n",
    "# **Étape 1: Charger le dataset**\n",
    "uploaded = files.upload()\n",
    "df = pd.read_csv(\"human_vital_signs_dataset_2024.csv\")\n",
    "\n",
    "# **Étape 2: Exploration initiale (facultatif mais recommandé)**\n",
    "print(\"Premières lignes du DataFrame:\")\n",
    "print(df.head())\n",
    "print(\"\\nInformations sur le DataFrame:\")\n",
    "df.info()\n",
    "print(\"\\nStatistiques descriptives du DataFrame:\")\n",
    "print(df.describe())\n",
    "\n",
    "# **Étape 3: Mélanger le dataset**\n",
    "df_shuffled = df.sample(frac=1).reset_index(drop=True)\n",
    "print(\"\\nPremières lignes du DataFrame mélangé:\")\n",
    "print(df_shuffled.head())\n"
   ]
  },
  {
   "cell_type": "code",
   "execution_count": null,
   "id": "9a75dbba",
   "metadata": {
    "vscode": {
     "languageId": "plaintext"
    }
   },
   "outputs": [],
   "source": [
    "df.drop(['Patient ID', 'Timestamp'], axis=1, inplace=True)\n",
    "df.info()\n",
    "df.describe()\n",
    "df.head()"
   ]
  },
  {
   "cell_type": "code",
   "execution_count": null,
   "id": "f165e87d",
   "metadata": {
    "vscode": {
     "languageId": "plaintext"
    }
   },
   "outputs": [],
   "source": [
    "from google.colab import drive\n",
    "drive.mount('/content/drive')"
   ]
  },
  {
   "cell_type": "code",
   "execution_count": null,
   "id": "a2478400",
   "metadata": {
    "vscode": {
     "languageId": "plaintext"
    }
   },
   "outputs": [],
   "source": [
    "df.to_csv('/content/drive/MyDrive/human_vital_signs_dataset_2024.csv', index=False)"
   ]
  },
  {
   "cell_type": "code",
   "execution_count": null,
   "id": "4a5b38c8",
   "metadata": {
    "vscode": {
     "languageId": "plaintext"
    }
   },
   "outputs": [],
   "source": [
    "df_unshuffled = pd.read_csv('/content/drive/MyDrive/human_vital_signs_dataset_2024.csv')\n",
    "df = df_unshuffled.sample(frac=1, random_state=42).reset_index(drop=True)\n",
    "df.to_csv('/content/drive/MyDrive/human_vital_signs_dataset_2024.csv', index=False)\n"
   ]
  },
  {
   "cell_type": "code",
   "execution_count": null,
   "id": "2d73f96e",
   "metadata": {
    "vscode": {
     "languageId": "plaintext"
    }
   },
   "outputs": [],
   "source": [
    "from sklearn.model_selection import train_test_split\n",
    "train_df, temp_df = train_test_split(df, test_size=0.2, random_state=42)  # 80% train, 20% temporaire\n",
    "val_df, test_df = train_test_split(temp_df, test_size=0.5, random_state=42)  # 10% val, 10% test\n",
    "train_df.to_csv('/content/drive/MyDrive/train.csv', index=False)\n",
    "val_df.to_csv('/content/drive/MyDrive/val.csv', index=False)\n",
    "test_df.to_csv('/content/drive/MyDrive/test.csv', index=False)"
   ]
  },
  {
   "cell_type": "code",
   "execution_count": null,
   "id": "b7a5c4c1",
   "metadata": {
    "vscode": {
     "languageId": "plaintext"
    }
   },
   "outputs": [],
   "source": [
    "from google.colab import drive\n",
    "import pandas as pd\n",
    "from sklearn.preprocessing import StandardScaler\n",
    "import joblib\n",
    "\n",
    "# Monter Google Drive\n",
    "drive.mount('/content/drive')\n",
    "\n",
    "# Charger le dataset complet pour récupérer le scaler\n",
    "df_train = pd.read_csv('/content/drive/MyDrive/train.csv')\n",
    "df_val = pd.read_csv('/content/drive/MyDrive/val.csv')\n",
    "df_test = pd.read_csv('/content/drive/MyDrive/test.csv')\n",
    "\n",
    "# Remap Gender en valeurs numériques\n",
    "df_train['Gender'] = df_train['Gender'].map({'Male': 1, 'Female': 0})\n",
    "df_val['Gender'] = df_val['Gender'].map({'Male': 1, 'Female': 0})\n",
    "df_test['Gender'] = df_test['Gender'].map({'Male': 1, 'Female': 0})\n",
    "\n",
    "# Séparer les features et la cible (Risk_Category)\n",
    "X_train = df_train.drop(columns=['Risk_Category'])\n",
    "y_train = df_train['Risk_Category'].map({'Low Risk': 0, 'High Risk': 1})\n",
    "\n",
    "X_val = df_val.drop(columns=['Risk_Category'])\n",
    "y_val = df_val['Risk_Category'].map({'Low Risk': 0, 'High Risk': 1})\n",
    "\n",
    "X_test = df_test.drop(columns=['Risk_Category'])\n",
    "y_test = df_test['Risk_Category'].map({'Low Risk': 0, 'High Risk': 1})\n",
    "\n",
    "# Créer un scaler et ajuster sur le train set\n",
    "scaler = StandardScaler()\n",
    "X_train_scaled = scaler.fit_transform(X_train)\n",
    "\n",
    "# Normaliser les datasets de validation et test avec le même scaler\n",
    "X_val_scaled = scaler.transform(X_val)\n",
    "X_test_scaled = scaler.transform(X_test)\n",
    "\n",
    "# Enregistrer le scaler dans un fichier .pkl\n",
    "joblib.dump(scaler, '/content/drive/MyDrive/scaler.pkl')\n",
    "\n",
    "# Reconstituer les dataframes normalisés\n",
    "df_train_normalized = pd.DataFrame(X_train_scaled, columns=X_train.columns)\n",
    "df_train_normalized['Risk_Category'] = y_train\n",
    "df_train_normalized['Gender'] = df_train['Gender']\n",
    "\n",
    "df_val_normalized = pd.DataFrame(X_val_scaled, columns=X_val.columns)\n",
    "df_val_normalized['Risk_Category'] = y_val\n",
    "df_val_normalized['Gender'] = df_val['Gender']\n",
    "\n",
    "df_test_normalized = pd.DataFrame(X_test_scaled, columns=X_test.columns)\n",
    "df_test_normalized['Risk_Category'] = y_test\n",
    "df_test_normalized['Gender'] = df_test['Gender']\n",
    "\n",
    "# Enregistrer les versions normalisées des fichiers\n",
    "df_train_normalized.to_csv('/content/drive/MyDrive/train_normalized.csv', index=False)\n",
    "df_val_normalized.to_csv('/content/drive/MyDrive/val_normalized.csv', index=False)\n",
    "df_test_normalized.to_csv('/content/drive/MyDrive/test_normalized.csv', index=False)\n",
    "\n",
    "# Optionnel : afficher les premières lignes pour vérifier\n",
    "print(df_train_normalized.head())\n",
    "\n"
   ]
  }
 ],
 "metadata": {
  "language_info": {
   "name": "python"
  }
 },
 "nbformat": 4,
 "nbformat_minor": 5
}
